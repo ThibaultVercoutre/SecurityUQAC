{
 "cells": [
  {
   "cell_type": "markdown",
   "metadata": {
    "id": "POHVHJHtoH78"
   },
   "source": [
    "# Installations"
   ]
  },
  {
   "cell_type": "code",
   "execution_count": null,
   "metadata": {
    "colab": {
     "base_uri": "https://localhost:8080/"
    },
    "executionInfo": {
     "elapsed": 7185,
     "status": "ok",
     "timestamp": 1730161497468,
     "user": {
      "displayName": "Thibault Vercoutre",
      "userId": "11898356302088036045"
     },
     "user_tz": 240
    },
    "id": "VKVJuAgPoH7_",
    "outputId": "78e7cff3-fa03-425c-c668-11f312c52182"
   },
   "outputs": [
    {
     "name": "stdout",
     "output_type": "stream",
     "text": [
      "Collecting paho-mqtt\n",
      "  Downloading paho_mqtt-2.1.0-py3-none-any.whl.metadata (23 kB)\n",
      "Downloading paho_mqtt-2.1.0-py3-none-any.whl (67 kB)\n",
      "\u001b[?25l   \u001b[90m━━━━━━━━━━━━━━━━━━━━━━━━━━━━━━━━━━━━━━━━\u001b[0m \u001b[32m0.0/67.2 kB\u001b[0m \u001b[31m?\u001b[0m eta \u001b[36m-:--:--\u001b[0m\r\u001b[2K   \u001b[90m━━━━━━━━━━━━━━━━━━━━━━━━━━━━━━━━━━━━━━━━\u001b[0m \u001b[32m67.2/67.2 kB\u001b[0m \u001b[31m2.6 MB/s\u001b[0m eta \u001b[36m0:00:00\u001b[0m\n",
      "\u001b[?25hInstalling collected packages: paho-mqtt\n",
      "Successfully installed paho-mqtt-2.1.0\n"
     ]
    }
   ],
   "source": [
    "#pip install paho-mqtt"
   ]
  },
  {
   "cell_type": "code",
   "execution_count": 3,
   "metadata": {
    "executionInfo": {
     "elapsed": 186,
     "status": "ok",
     "timestamp": 1730161502946,
     "user": {
      "displayName": "Thibault Vercoutre",
      "userId": "11898356302088036045"
     },
     "user_tz": 240
    },
    "id": "n8LyKd6doH8B"
   },
   "outputs": [],
   "source": [
    "import time\n",
    "import random\n",
    "import paho.mqtt.client as mqtt"
   ]
  },
  {
   "cell_type": "code",
   "execution_count": 13,
   "metadata": {
    "executionInfo": {
     "elapsed": 154,
     "status": "ok",
     "timestamp": 1730161735873,
     "user": {
      "displayName": "Thibault Vercoutre",
      "userId": "11898356302088036045"
     },
     "user_tz": 240
    },
    "id": "F3jsP7XeoH8C"
   },
   "outputs": [],
   "source": [
    "BROKER = \"mqtt-broker\"  # Nom du conteneur Mosquitto\n",
    "BROKER_ADDRESS = \"localhost\"\n",
    "\n",
    "BROKER_ADDRESS = \"test.mosquitto.org\"\n",
    "BROKER_PORT = 1883"
   ]
  },
  {
   "cell_type": "code",
   "execution_count": 14,
   "metadata": {
    "colab": {
     "base_uri": "https://localhost:8080/"
    },
    "executionInfo": {
     "elapsed": 329,
     "status": "ok",
     "timestamp": 1730161737620,
     "user": {
      "displayName": "Thibault Vercoutre",
      "userId": "11898356302088036045"
     },
     "user_tz": 240
    },
    "id": "KCV1iec0oH8C",
    "outputId": "3c56bb23-a3e9-4344-9205-3f05900bf28a"
   },
   "outputs": [
    {
     "name": "stderr",
     "output_type": "stream",
     "text": [
      "C:\\Users\\thiba\\AppData\\Local\\Temp\\ipykernel_3152\\2949677460.py:1: DeprecationWarning: Callback API version 1 is deprecated, update to latest version\n",
      "  client = mqtt.Client()\n"
     ]
    },
    {
     "data": {
      "text/plain": [
       "<MQTTErrorCode.MQTT_ERR_SUCCESS: 0>"
      ]
     },
     "execution_count": 14,
     "metadata": {},
     "output_type": "execute_result"
    }
   ],
   "source": [
    "client = mqtt.Client()\n",
    "client.connect(BROKER_ADDRESS, BROKER_PORT, 60)"
   ]
  },
  {
   "cell_type": "markdown",
   "metadata": {
    "id": "ejGiWk0roH8C"
   },
   "source": [
    "# Capteur 1 : capteur de temperature"
   ]
  },
  {
   "cell_type": "code",
   "execution_count": 15,
   "metadata": {
    "executionInfo": {
     "elapsed": 324,
     "status": "ok",
     "timestamp": 1730161742670,
     "user": {
      "displayName": "Thibault Vercoutre",
      "userId": "11898356302088036045"
     },
     "user_tz": 240
    },
    "id": "W9wLXQUmoH8D"
   },
   "outputs": [],
   "source": [
    "TOPIC_TEMP = \"home/sensors/temperature\"\n",
    "INTERVAL_TEMP = 5  # Intervalle de publication en secondes\n",
    "\n",
    "def simulate_temperature():\n",
    "    return round(random.uniform(15, 25), 2)"
   ]
  },
  {
   "cell_type": "code",
   "execution_count": 16,
   "metadata": {
    "colab": {
     "base_uri": "https://localhost:8080/",
     "height": 228
    },
    "executionInfo": {
     "elapsed": 12824,
     "status": "error",
     "timestamp": 1730161757065,
     "user": {
      "displayName": "Thibault Vercoutre",
      "userId": "11898356302088036045"
     },
     "user_tz": 240
    },
    "id": "dYGhSPNPoH8D",
    "outputId": "8cebe2b0-b279-4ad7-d7ec-fd4ff9e34135"
   },
   "outputs": [
    {
     "name": "stdout",
     "output_type": "stream",
     "text": [
      "Publishing temperature: 16.58\n",
      "Publishing temperature: 18.69\n"
     ]
    },
    {
     "ename": "KeyboardInterrupt",
     "evalue": "",
     "output_type": "error",
     "traceback": [
      "\u001b[1;31m---------------------------------------------------------------------------\u001b[0m",
      "\u001b[1;31mKeyboardInterrupt\u001b[0m                         Traceback (most recent call last)",
      "Cell \u001b[1;32mIn[16], line 5\u001b[0m\n\u001b[0;32m      3\u001b[0m \u001b[38;5;28mprint\u001b[39m(\u001b[38;5;124mf\u001b[39m\u001b[38;5;124m\"\u001b[39m\u001b[38;5;124mPublishing temperature: \u001b[39m\u001b[38;5;132;01m{\u001b[39;00mtemperature\u001b[38;5;132;01m}\u001b[39;00m\u001b[38;5;124m\"\u001b[39m)\n\u001b[0;32m      4\u001b[0m client\u001b[38;5;241m.\u001b[39mpublish(TOPIC_TEMP, temperature)\n\u001b[1;32m----> 5\u001b[0m \u001b[43mtime\u001b[49m\u001b[38;5;241;43m.\u001b[39;49m\u001b[43msleep\u001b[49m\u001b[43m(\u001b[49m\u001b[43mINTERVAL_TEMP\u001b[49m\u001b[43m)\u001b[49m\n",
      "\u001b[1;31mKeyboardInterrupt\u001b[0m: "
     ]
    }
   ],
   "source": [
    "while True:\n",
    "    temperature = simulate_temperature()\n",
    "    print(f\"Publishing temperature: {temperature}\")\n",
    "    client.publish(TOPIC_TEMP, temperature)\n",
    "    time.sleep(INTERVAL_TEMP)"
   ]
  },
  {
   "cell_type": "markdown",
   "metadata": {
    "id": "obGqy3lpoH8D"
   },
   "source": [
    "# Capteur 2 : capteur de luminosité"
   ]
  },
  {
   "cell_type": "code",
   "execution_count": 10,
   "metadata": {
    "executionInfo": {
     "elapsed": 184,
     "status": "ok",
     "timestamp": 1730161761465,
     "user": {
      "displayName": "Thibault Vercoutre",
      "userId": "11898356302088036045"
     },
     "user_tz": 240
    },
    "id": "Gr-p0veUoH8E"
   },
   "outputs": [],
   "source": [
    "TOPIC_LUM = \"home/sensors/luminosity\"\n",
    "INTERVAL_LUM = 5\n",
    "\n",
    "index = 0\n",
    "luminosity_sequence = [1, 2, 3, 4, 5, 6, 5, 4, 3, 2, 1]\n",
    "\n",
    "def simulate_luminosity():\n",
    "    global index\n",
    "    current_luminosity = luminosity_sequence[index]\n",
    "\n",
    "    if current_luminosity <= 3 :\n",
    "        print(\"Luminosité basse, allumez la lumière\")\n",
    "\n",
    "    index += 1\n",
    "    if index >= len(luminosity_sequence):\n",
    "        index = 0\n",
    "\n",
    "    return current_luminosity\n",
    "\n"
   ]
  },
  {
   "cell_type": "code",
   "execution_count": 11,
   "metadata": {
    "colab": {
     "base_uri": "https://localhost:8080/",
     "height": 297
    },
    "executionInfo": {
     "elapsed": 18184,
     "status": "error",
     "timestamp": 1730161782025,
     "user": {
      "displayName": "Thibault Vercoutre",
      "userId": "11898356302088036045"
     },
     "user_tz": 240
    },
    "id": "0AgCrRlvoH8E",
    "outputId": "db8ded9c-db08-4802-88fa-9c1e1795d9d6"
   },
   "outputs": [
    {
     "name": "stdout",
     "output_type": "stream",
     "text": [
      "Luminosité basse, allumez la lumière\n",
      "Publishing luminosity : 1\n",
      "Luminosité basse, allumez la lumière\n",
      "Publishing luminosity : 2\n",
      "Luminosité basse, allumez la lumière\n",
      "Publishing luminosity : 3\n",
      "Publishing luminosity : 4\n"
     ]
    },
    {
     "ename": "KeyboardInterrupt",
     "evalue": "",
     "output_type": "error",
     "traceback": [
      "\u001b[0;31m---------------------------------------------------------------------------\u001b[0m",
      "\u001b[0;31mKeyboardInterrupt\u001b[0m                         Traceback (most recent call last)",
      "\u001b[0;32m<ipython-input-11-83b47b1c9480>\u001b[0m in \u001b[0;36m<cell line: 1>\u001b[0;34m()\u001b[0m\n\u001b[1;32m      3\u001b[0m     \u001b[0mprint\u001b[0m\u001b[0;34m(\u001b[0m\u001b[0;34mf\"Publishing luminosity : {global_luminosity}\"\u001b[0m\u001b[0;34m)\u001b[0m\u001b[0;34m\u001b[0m\u001b[0;34m\u001b[0m\u001b[0m\n\u001b[1;32m      4\u001b[0m     \u001b[0mclient\u001b[0m\u001b[0;34m.\u001b[0m\u001b[0mpublish\u001b[0m\u001b[0;34m(\u001b[0m\u001b[0mTOPIC_LUM\u001b[0m\u001b[0;34m,\u001b[0m \u001b[0mglobal_luminosity\u001b[0m\u001b[0;34m)\u001b[0m\u001b[0;34m\u001b[0m\u001b[0;34m\u001b[0m\u001b[0m\n\u001b[0;32m----> 5\u001b[0;31m     \u001b[0mtime\u001b[0m\u001b[0;34m.\u001b[0m\u001b[0msleep\u001b[0m\u001b[0;34m(\u001b[0m\u001b[0mINTERVAL_LUM\u001b[0m\u001b[0;34m)\u001b[0m\u001b[0;34m\u001b[0m\u001b[0;34m\u001b[0m\u001b[0m\n\u001b[0m",
      "\u001b[0;31mKeyboardInterrupt\u001b[0m: "
     ]
    }
   ],
   "source": [
    "while True:\n",
    "    global_luminosity = simulate_luminosity()\n",
    "    print(f\"Publishing luminosity : {global_luminosity}\")\n",
    "    client.publish(TOPIC_LUM, global_luminosity)\n",
    "    time.sleep(INTERVAL_LUM)"
   ]
  },
  {
   "cell_type": "markdown",
   "metadata": {
    "id": "uVD-E1GJoH8F"
   },
   "source": [
    "# Capteur 3 : detecteur de mouvement"
   ]
  },
  {
   "cell_type": "code",
   "execution_count": 12,
   "metadata": {
    "executionInfo": {
     "elapsed": 164,
     "status": "ok",
     "timestamp": 1730161784191,
     "user": {
      "displayName": "Thibault Vercoutre",
      "userId": "11898356302088036045"
     },
     "user_tz": 240
    },
    "id": "rHdQvbI3oH8F"
   },
   "outputs": [],
   "source": [
    "TOPIC_MVT = \"home/sensors/luminosity\"\n",
    "INTERVAL_MVT = 5\n",
    "\n",
    "def simulate_mvmnt():\n",
    "    probability=0.1\n",
    "\n",
    "    if random.random() < probability:\n",
    "        print(\"intrusion\")\n",
    "        return 1\n",
    "    else:\n",
    "        return 0"
   ]
  },
  {
   "cell_type": "code",
   "execution_count": 13,
   "metadata": {
    "colab": {
     "base_uri": "https://localhost:8080/",
     "height": 228
    },
    "executionInfo": {
     "elapsed": 15102,
     "status": "error",
     "timestamp": 1730161801901,
     "user": {
      "displayName": "Thibault Vercoutre",
      "userId": "11898356302088036045"
     },
     "user_tz": 240
    },
    "id": "IHpxhbM1oH8F",
    "outputId": "a4337f00-7274-4e1d-e65f-d3ccc4576c0c"
   },
   "outputs": [
    {
     "name": "stdout",
     "output_type": "stream",
     "text": [
      "Publishing movement : 0\n",
      "Publishing movement : 0\n",
      "Publishing movement : 0\n"
     ]
    },
    {
     "ename": "KeyboardInterrupt",
     "evalue": "",
     "output_type": "error",
     "traceback": [
      "\u001b[0;31m---------------------------------------------------------------------------\u001b[0m",
      "\u001b[0;31mKeyboardInterrupt\u001b[0m                         Traceback (most recent call last)",
      "\u001b[0;32m<ipython-input-13-99f798a6d824>\u001b[0m in \u001b[0;36m<cell line: 1>\u001b[0;34m()\u001b[0m\n\u001b[1;32m      3\u001b[0m     \u001b[0mprint\u001b[0m\u001b[0;34m(\u001b[0m\u001b[0;34mf\"Publishing movement : {movement}\"\u001b[0m\u001b[0;34m)\u001b[0m\u001b[0;34m\u001b[0m\u001b[0;34m\u001b[0m\u001b[0m\n\u001b[1;32m      4\u001b[0m     \u001b[0mclient\u001b[0m\u001b[0;34m.\u001b[0m\u001b[0mpublish\u001b[0m\u001b[0;34m(\u001b[0m\u001b[0mTOPIC_MVT\u001b[0m\u001b[0;34m,\u001b[0m \u001b[0mmovement\u001b[0m\u001b[0;34m)\u001b[0m\u001b[0;34m\u001b[0m\u001b[0;34m\u001b[0m\u001b[0m\n\u001b[0;32m----> 5\u001b[0;31m     \u001b[0mtime\u001b[0m\u001b[0;34m.\u001b[0m\u001b[0msleep\u001b[0m\u001b[0;34m(\u001b[0m\u001b[0mINTERVAL_MVT\u001b[0m\u001b[0;34m)\u001b[0m\u001b[0;34m\u001b[0m\u001b[0;34m\u001b[0m\u001b[0m\n\u001b[0m",
      "\u001b[0;31mKeyboardInterrupt\u001b[0m: "
     ]
    }
   ],
   "source": [
    "while True:\n",
    "    movement = simulate_mvmnt()\n",
    "    print(f\"Publishing movement : {movement}\")\n",
    "    client.publish(TOPIC_MVT, movement)\n",
    "    time.sleep(INTERVAL_MVT)"
   ]
  }
 ],
 "metadata": {
  "colab": {
   "provenance": []
  },
  "kernelspec": {
   "display_name": "Python 3",
   "language": "python",
   "name": "python3"
  },
  "language_info": {
   "codemirror_mode": {
    "name": "ipython",
    "version": 3
   },
   "file_extension": ".py",
   "mimetype": "text/x-python",
   "name": "python",
   "nbconvert_exporter": "python",
   "pygments_lexer": "ipython3",
   "version": "3.13.0"
  }
 },
 "nbformat": 4,
 "nbformat_minor": 0
}
